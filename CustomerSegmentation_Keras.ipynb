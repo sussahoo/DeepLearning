{
  "nbformat": 4,
  "nbformat_minor": 0,
  "metadata": {
    "colab": {
      "name": "CustomerSegmentation-Keras.ipynb",
      "provenance": [],
      "collapsed_sections": [],
      "authorship_tag": "ABX9TyPIQqYAqdbqUvuSIM+Seiud",
      "include_colab_link": true
    },
    "kernelspec": {
      "name": "python3",
      "display_name": "Python 3"
    }
  },
  "cells": [
    {
      "cell_type": "markdown",
      "metadata": {
        "id": "view-in-github",
        "colab_type": "text"
      },
      "source": [
        "<a href=\"https://colab.research.google.com/github/sussahoo/DeepLearning/blob/master/CustomerSegmentation_Keras.ipynb\" target=\"_parent\"><img src=\"https://colab.research.google.com/assets/colab-badge.svg\" alt=\"Open In Colab\"/></a>"
      ]
    },
    {
      "cell_type": "markdown",
      "metadata": {
        "id": "CoAGSzJ6Wkqn",
        "colab_type": "text"
      },
      "source": [
        "**Tags : ** **** \n",
        "\n",
        "**Customer segmentation, classification, sklearn- (one-hot-encode,StandardScaler/Normalize, label-encode, ColumnTransformer), keras, confusion matrix**"
      ]
    },
    {
      "cell_type": "code",
      "metadata": {
        "id": "4CckUTJFfGvG",
        "colab_type": "code",
        "colab": {
          "base_uri": "https://localhost:8080/",
          "height": 204
        },
        "outputId": "666e585a-31cd-4ded-d9a0-1048eec5ee76"
      },
      "source": [
        "!wget --no-check-certificate \\\n",
        "    https://raw.githubusercontent.com/sussahoo/DeepLearning/master/data/Churn_Modelling.csv \\\n",
        "    -O /tmp/Churn_Modelling.csv"
      ],
      "execution_count": 65,
      "outputs": [
        {
          "output_type": "stream",
          "text": [
            "--2020-06-14 00:50:11--  https://raw.githubusercontent.com/sussahoo/DeepLearning/master/data/Churn_Modelling.csv\n",
            "Resolving raw.githubusercontent.com (raw.githubusercontent.com)... 151.101.0.133, 151.101.64.133, 151.101.128.133, ...\n",
            "Connecting to raw.githubusercontent.com (raw.githubusercontent.com)|151.101.0.133|:443... connected.\n",
            "HTTP request sent, awaiting response... 200 OK\n",
            "Length: 684858 (669K) [text/plain]\n",
            "Saving to: ‘/tmp/Churn_Modelling.csv’\n",
            "\n",
            "/tmp/Churn_Modellin 100%[===================>] 668.81K  --.-KB/s    in 0.1s    \n",
            "\n",
            "2020-06-14 00:50:11 (6.54 MB/s) - ‘/tmp/Churn_Modelling.csv’ saved [684858/684858]\n",
            "\n"
          ],
          "name": "stdout"
        }
      ]
    },
    {
      "cell_type": "code",
      "metadata": {
        "id": "xllwBGZFBWAq",
        "colab_type": "code",
        "colab": {
          "base_uri": "https://localhost:8080/",
          "height": 68
        },
        "outputId": "89f229d7-fd5a-4ed6-e516-b8561921f4c6"
      },
      "source": [
        "# Installing Theano\n",
        "# pip install --upgrade --no-deps git+git://github.com/Theano/Theano.git\n",
        "\n",
        "# Installing Tensorflow\n",
        "# pip install tensorflow\n",
        "\n",
        "# Installing Keras\n",
        "# pip install --upgrade keras\n",
        "\n",
        "# Importing the libraries\n",
        "\n",
        "import numpy as np\n",
        "import matplotlib.pyplot as plt\n",
        "import pandas as pd\n",
        "\n",
        "# Importing the dataset\n",
        "dataset = pd.read_csv('/tmp/Churn_Modelling.csv')\n",
        "X = dataset.iloc[:, 3:13].to_numpy()\n",
        "y = dataset.iloc[:, 13].to_numpy()\n",
        "print(type(X),X.shape,X.dtype)\n",
        "print(X[:2,:])"
      ],
      "execution_count": 70,
      "outputs": [
        {
          "output_type": "stream",
          "text": [
            "<class 'numpy.ndarray'> (10000, 10) object\n",
            "[[619 'France' 'Female' 42 2 0.0 1 1 1 101348.88]\n",
            " [608 'Spain' 'Female' 41 1 83807.86 1 0 1 112542.58]]\n"
          ],
          "name": "stdout"
        }
      ]
    },
    {
      "cell_type": "markdown",
      "metadata": {
        "id": "UF36uUQAWIC2",
        "colab_type": "text"
      },
      "source": [
        "\n",
        "\n",
        "1.   Previously we used to label encode first and then one-hot, but with 0.20 one-hot-encode works with categorical strings.\n",
        "2.   When we one-hot encode, we have 3 countires so 3 columns and 2 columns for 2 genders. so drop one from each.   \n",
        "\n",
        "*Actually for geneder column, we don't need to one-hot-encode and drop first, just labelEncoder would have worked*\n",
        "\n",
        "\n",
        "\n",
        "```\n",
        "labelencoder_X_1 = LabelEncoder()\n",
        "X[:, 1] = labelencoder_X_1.fit_transform(X[:, 1])\n",
        "```\n",
        "\n",
        "\n",
        "\n",
        "\n",
        "\n",
        "\n",
        "\n",
        "\n",
        "\n"
      ]
    },
    {
      "cell_type": "code",
      "metadata": {
        "id": "qS4ElCceTsCo",
        "colab_type": "code",
        "colab": {
          "base_uri": "https://localhost:8080/",
          "height": 51
        },
        "outputId": "5b07beeb-1866-4d50-e9c7-bc41a7ab48bd"
      },
      "source": [
        "# Encoding categorical data, label encoder enocodes say 3 countries, to values 0,1,2\n",
        "from sklearn.preprocessing import LabelEncoder, OneHotEncoder\n",
        "from sklearn.compose import ColumnTransformer\n",
        "\n",
        "\"\"\"\n",
        "labelencoder_X_1 = LabelEncoder()\n",
        "X[:, 1] = labelencoder_X_1.fit_transform(X[:, 1])\n",
        "ct = ColumnTransformer(\n",
        "    [('oh_enc', OneHotEncoder(sparse=False,drop='first')), [1]),],  # the column numbers I want to apply this to\n",
        "    remainder='passthrough'  # This leaves the rest of my columns in place\n",
        ")\n",
        "\"\"\"\n",
        "ct = ColumnTransformer(\n",
        "    [('oh_enc', OneHotEncoder(sparse=False,drop='first'), [ 1,2]),],  # the column numbers I want to apply this to\n",
        "    remainder='passthrough'  # This leaves the rest of my columns in place\n",
        ")\n",
        "X = ct.fit_transform(X)\n",
        "print(X[:2,:])"
      ],
      "execution_count": 71,
      "outputs": [
        {
          "output_type": "stream",
          "text": [
            "[[0.0 0.0 0.0 619 42 2 0.0 1 1 1 101348.88]\n",
            " [0.0 1.0 0.0 608 41 1 83807.86 1 0 1 112542.58]]\n"
          ],
          "name": "stdout"
        }
      ]
    },
    {
      "cell_type": "code",
      "metadata": {
        "id": "_sYa9t8KXhax",
        "colab_type": "code",
        "colab": {}
      },
      "source": [
        "# Splitting the dataset into the Training set and Test set\n",
        "from sklearn.model_selection import train_test_split\n",
        "X_train, X_test, y_train, y_test = train_test_split(X, y, test_size = 0.2, random_state = 0)\n",
        "\n",
        "# Feature Scaling\n",
        "from sklearn.preprocessing import StandardScaler\n",
        "sc = StandardScaler()\n",
        "X_train = sc.fit_transform(X_train)\n",
        "X_test = sc.transform(X_test)"
      ],
      "execution_count": 0,
      "outputs": []
    },
    {
      "cell_type": "code",
      "metadata": {
        "id": "NRIV7GxtZELD",
        "colab_type": "code",
        "colab": {
          "base_uri": "https://localhost:8080/",
          "height": 1000
        },
        "outputId": "62b9284e-a625-4c56-894e-a30acfb78129"
      },
      "source": [
        "import keras\n",
        "from keras.models import Sequential\n",
        "from keras.layers import Dense\n",
        "\n",
        "# Initialising the ANN\n",
        "classifier = Sequential()\n",
        "\n",
        "# Adding the input layer and the first hidden layer\n",
        "classifier.add(Dense(units = 6, kernel_initializer = 'uniform', activation = 'relu', input_dim = 11))\n",
        "\n",
        "# Adding the second hidden layer\n",
        "classifier.add(Dense(units = 6, kernel_initializer = 'uniform', activation = 'relu'))\n",
        "\n",
        "# Adding the output layer\n",
        "classifier.add(Dense(units = 1, kernel_initializer = 'uniform', activation = 'sigmoid'))\n",
        "\n",
        "# Compiling the ANN\n",
        "classifier.compile(optimizer = 'adam', loss = 'binary_crossentropy', metrics = ['accuracy'])\n",
        "\n",
        "# Fitting the ANN to the Training set\n",
        "classifier.fit(X_train, y_train, batch_size = 10, epochs = 100)"
      ],
      "execution_count": 73,
      "outputs": [
        {
          "output_type": "stream",
          "text": [
            "Using TensorFlow backend.\n"
          ],
          "name": "stderr"
        },
        {
          "output_type": "stream",
          "text": [
            "Epoch 1/100\n",
            "8000/8000 [==============================] - 1s 143us/step - loss: 0.4855 - accuracy: 0.7955\n",
            "Epoch 2/100\n",
            "8000/8000 [==============================] - 1s 108us/step - loss: 0.4262 - accuracy: 0.7960\n",
            "Epoch 3/100\n",
            "8000/8000 [==============================] - 1s 106us/step - loss: 0.4208 - accuracy: 0.8006\n",
            "Epoch 4/100\n",
            "8000/8000 [==============================] - 1s 105us/step - loss: 0.4171 - accuracy: 0.8253\n",
            "Epoch 5/100\n",
            "8000/8000 [==============================] - 1s 107us/step - loss: 0.4148 - accuracy: 0.8288\n",
            "Epoch 6/100\n",
            "8000/8000 [==============================] - 1s 106us/step - loss: 0.4139 - accuracy: 0.8320\n",
            "Epoch 7/100\n",
            "8000/8000 [==============================] - 1s 104us/step - loss: 0.4126 - accuracy: 0.8324\n",
            "Epoch 8/100\n",
            "8000/8000 [==============================] - 1s 105us/step - loss: 0.4112 - accuracy: 0.8321\n",
            "Epoch 9/100\n",
            "8000/8000 [==============================] - 1s 107us/step - loss: 0.4103 - accuracy: 0.8319\n",
            "Epoch 10/100\n",
            "8000/8000 [==============================] - 1s 106us/step - loss: 0.4092 - accuracy: 0.8330\n",
            "Epoch 11/100\n",
            "8000/8000 [==============================] - 1s 106us/step - loss: 0.4086 - accuracy: 0.8340\n",
            "Epoch 12/100\n",
            "8000/8000 [==============================] - 1s 108us/step - loss: 0.4078 - accuracy: 0.8341\n",
            "Epoch 13/100\n",
            "8000/8000 [==============================] - 1s 106us/step - loss: 0.4074 - accuracy: 0.8344\n",
            "Epoch 14/100\n",
            "8000/8000 [==============================] - 1s 107us/step - loss: 0.4068 - accuracy: 0.8341\n",
            "Epoch 15/100\n",
            "8000/8000 [==============================] - 1s 109us/step - loss: 0.4063 - accuracy: 0.8357\n",
            "Epoch 16/100\n",
            "8000/8000 [==============================] - 1s 106us/step - loss: 0.4057 - accuracy: 0.8345\n",
            "Epoch 17/100\n",
            "8000/8000 [==============================] - 1s 105us/step - loss: 0.4052 - accuracy: 0.8353\n",
            "Epoch 18/100\n",
            "8000/8000 [==============================] - 1s 104us/step - loss: 0.4050 - accuracy: 0.8359\n",
            "Epoch 19/100\n",
            "8000/8000 [==============================] - 1s 107us/step - loss: 0.4051 - accuracy: 0.8356\n",
            "Epoch 20/100\n",
            "8000/8000 [==============================] - 1s 106us/step - loss: 0.4044 - accuracy: 0.8335\n",
            "Epoch 21/100\n",
            "8000/8000 [==============================] - 1s 108us/step - loss: 0.4039 - accuracy: 0.8353\n",
            "Epoch 22/100\n",
            "8000/8000 [==============================] - 1s 106us/step - loss: 0.4039 - accuracy: 0.8351\n",
            "Epoch 23/100\n",
            "8000/8000 [==============================] - 1s 108us/step - loss: 0.4029 - accuracy: 0.8361\n",
            "Epoch 24/100\n",
            "8000/8000 [==============================] - 1s 108us/step - loss: 0.4036 - accuracy: 0.8353\n",
            "Epoch 25/100\n",
            "8000/8000 [==============================] - 1s 106us/step - loss: 0.4031 - accuracy: 0.8359\n",
            "Epoch 26/100\n",
            "8000/8000 [==============================] - 1s 105us/step - loss: 0.4025 - accuracy: 0.8342\n",
            "Epoch 27/100\n",
            "8000/8000 [==============================] - 1s 106us/step - loss: 0.4032 - accuracy: 0.8345\n",
            "Epoch 28/100\n",
            "8000/8000 [==============================] - 1s 106us/step - loss: 0.4027 - accuracy: 0.8340\n",
            "Epoch 29/100\n",
            "8000/8000 [==============================] - 1s 108us/step - loss: 0.4013 - accuracy: 0.8331\n",
            "Epoch 30/100\n",
            "8000/8000 [==============================] - 1s 107us/step - loss: 0.4018 - accuracy: 0.8356\n",
            "Epoch 31/100\n",
            "8000/8000 [==============================] - 1s 107us/step - loss: 0.4021 - accuracy: 0.8356\n",
            "Epoch 32/100\n",
            "8000/8000 [==============================] - 1s 105us/step - loss: 0.4018 - accuracy: 0.8349\n",
            "Epoch 33/100\n",
            "8000/8000 [==============================] - 1s 106us/step - loss: 0.4013 - accuracy: 0.8334\n",
            "Epoch 34/100\n",
            "8000/8000 [==============================] - 1s 107us/step - loss: 0.4018 - accuracy: 0.8353\n",
            "Epoch 35/100\n",
            "8000/8000 [==============================] - 1s 106us/step - loss: 0.4015 - accuracy: 0.8359\n",
            "Epoch 36/100\n",
            "8000/8000 [==============================] - 1s 108us/step - loss: 0.4010 - accuracy: 0.8357\n",
            "Epoch 37/100\n",
            "8000/8000 [==============================] - 1s 104us/step - loss: 0.4012 - accuracy: 0.8334\n",
            "Epoch 38/100\n",
            "8000/8000 [==============================] - 1s 107us/step - loss: 0.4010 - accuracy: 0.8371\n",
            "Epoch 39/100\n",
            "8000/8000 [==============================] - 1s 108us/step - loss: 0.4013 - accuracy: 0.8357\n",
            "Epoch 40/100\n",
            "8000/8000 [==============================] - 1s 107us/step - loss: 0.4009 - accuracy: 0.8353\n",
            "Epoch 41/100\n",
            "8000/8000 [==============================] - 1s 107us/step - loss: 0.4006 - accuracy: 0.8354\n",
            "Epoch 42/100\n",
            "8000/8000 [==============================] - 1s 107us/step - loss: 0.4013 - accuracy: 0.8349\n",
            "Epoch 43/100\n",
            "8000/8000 [==============================] - 1s 106us/step - loss: 0.4008 - accuracy: 0.8331\n",
            "Epoch 44/100\n",
            "8000/8000 [==============================] - 1s 107us/step - loss: 0.4008 - accuracy: 0.8356\n",
            "Epoch 45/100\n",
            "8000/8000 [==============================] - 1s 108us/step - loss: 0.4009 - accuracy: 0.8347\n",
            "Epoch 46/100\n",
            "8000/8000 [==============================] - 1s 106us/step - loss: 0.4008 - accuracy: 0.8371\n",
            "Epoch 47/100\n",
            "8000/8000 [==============================] - 1s 105us/step - loss: 0.4008 - accuracy: 0.8359\n",
            "Epoch 48/100\n",
            "8000/8000 [==============================] - 1s 105us/step - loss: 0.4002 - accuracy: 0.8367\n",
            "Epoch 49/100\n",
            "8000/8000 [==============================] - 1s 109us/step - loss: 0.4009 - accuracy: 0.8355\n",
            "Epoch 50/100\n",
            "8000/8000 [==============================] - 1s 106us/step - loss: 0.4004 - accuracy: 0.8370\n",
            "Epoch 51/100\n",
            "8000/8000 [==============================] - 1s 109us/step - loss: 0.4007 - accuracy: 0.8355\n",
            "Epoch 52/100\n",
            "8000/8000 [==============================] - 1s 107us/step - loss: 0.4007 - accuracy: 0.8366\n",
            "Epoch 53/100\n",
            "8000/8000 [==============================] - 1s 107us/step - loss: 0.4005 - accuracy: 0.8350\n",
            "Epoch 54/100\n",
            "8000/8000 [==============================] - 1s 106us/step - loss: 0.4003 - accuracy: 0.8365\n",
            "Epoch 55/100\n",
            "8000/8000 [==============================] - 1s 109us/step - loss: 0.4006 - accuracy: 0.8342\n",
            "Epoch 56/100\n",
            "8000/8000 [==============================] - 1s 107us/step - loss: 0.4003 - accuracy: 0.8349\n",
            "Epoch 57/100\n",
            "8000/8000 [==============================] - 1s 109us/step - loss: 0.4006 - accuracy: 0.8345\n",
            "Epoch 58/100\n",
            "8000/8000 [==============================] - 1s 110us/step - loss: 0.4004 - accuracy: 0.8371\n",
            "Epoch 59/100\n",
            "8000/8000 [==============================] - 1s 109us/step - loss: 0.4006 - accuracy: 0.8371\n",
            "Epoch 60/100\n",
            "8000/8000 [==============================] - 1s 108us/step - loss: 0.4003 - accuracy: 0.8346\n",
            "Epoch 61/100\n",
            "8000/8000 [==============================] - 1s 107us/step - loss: 0.3999 - accuracy: 0.8351\n",
            "Epoch 62/100\n",
            "8000/8000 [==============================] - 1s 106us/step - loss: 0.4006 - accuracy: 0.8359\n",
            "Epoch 63/100\n",
            "8000/8000 [==============================] - 1s 106us/step - loss: 0.4002 - accuracy: 0.8364\n",
            "Epoch 64/100\n",
            "8000/8000 [==============================] - 1s 108us/step - loss: 0.4001 - accuracy: 0.8355\n",
            "Epoch 65/100\n",
            "8000/8000 [==============================] - 1s 109us/step - loss: 0.4002 - accuracy: 0.8370\n",
            "Epoch 66/100\n",
            "8000/8000 [==============================] - 1s 108us/step - loss: 0.4001 - accuracy: 0.8361\n",
            "Epoch 67/100\n",
            "8000/8000 [==============================] - 1s 108us/step - loss: 0.4002 - accuracy: 0.8340\n",
            "Epoch 68/100\n",
            "8000/8000 [==============================] - 1s 108us/step - loss: 0.4004 - accuracy: 0.8341\n",
            "Epoch 69/100\n",
            "8000/8000 [==============================] - 1s 108us/step - loss: 0.4004 - accuracy: 0.8365\n",
            "Epoch 70/100\n",
            "8000/8000 [==============================] - 1s 106us/step - loss: 0.3998 - accuracy: 0.8367\n",
            "Epoch 71/100\n",
            "8000/8000 [==============================] - 1s 108us/step - loss: 0.4000 - accuracy: 0.8357\n",
            "Epoch 72/100\n",
            "8000/8000 [==============================] - 1s 107us/step - loss: 0.4000 - accuracy: 0.8366\n",
            "Epoch 73/100\n",
            "8000/8000 [==============================] - 1s 106us/step - loss: 0.4001 - accuracy: 0.8345\n",
            "Epoch 74/100\n",
            "8000/8000 [==============================] - 1s 105us/step - loss: 0.4002 - accuracy: 0.8353\n",
            "Epoch 75/100\n",
            "8000/8000 [==============================] - 1s 107us/step - loss: 0.4003 - accuracy: 0.8355\n",
            "Epoch 76/100\n",
            "8000/8000 [==============================] - 1s 106us/step - loss: 0.4003 - accuracy: 0.8369\n",
            "Epoch 77/100\n",
            "8000/8000 [==============================] - 1s 106us/step - loss: 0.4001 - accuracy: 0.8354\n",
            "Epoch 78/100\n",
            "8000/8000 [==============================] - 1s 106us/step - loss: 0.4002 - accuracy: 0.8332\n",
            "Epoch 79/100\n",
            "8000/8000 [==============================] - 1s 106us/step - loss: 0.3998 - accuracy: 0.8366\n",
            "Epoch 80/100\n",
            "8000/8000 [==============================] - 1s 106us/step - loss: 0.4001 - accuracy: 0.8354\n",
            "Epoch 81/100\n",
            "8000/8000 [==============================] - 1s 106us/step - loss: 0.4000 - accuracy: 0.8366\n",
            "Epoch 82/100\n",
            "8000/8000 [==============================] - 1s 109us/step - loss: 0.3999 - accuracy: 0.8357\n",
            "Epoch 83/100\n",
            "8000/8000 [==============================] - 1s 108us/step - loss: 0.4000 - accuracy: 0.8354\n",
            "Epoch 84/100\n",
            "8000/8000 [==============================] - 1s 106us/step - loss: 0.4001 - accuracy: 0.8369\n",
            "Epoch 85/100\n",
            "8000/8000 [==============================] - 1s 107us/step - loss: 0.4001 - accuracy: 0.8350\n",
            "Epoch 86/100\n",
            "8000/8000 [==============================] - 1s 106us/step - loss: 0.3995 - accuracy: 0.8365\n",
            "Epoch 87/100\n",
            "8000/8000 [==============================] - 1s 109us/step - loss: 0.3997 - accuracy: 0.8365\n",
            "Epoch 88/100\n",
            "8000/8000 [==============================] - 1s 110us/step - loss: 0.3996 - accuracy: 0.8360\n",
            "Epoch 89/100\n",
            "8000/8000 [==============================] - 1s 105us/step - loss: 0.3995 - accuracy: 0.8345\n",
            "Epoch 90/100\n",
            "8000/8000 [==============================] - 1s 107us/step - loss: 0.3997 - accuracy: 0.8357\n",
            "Epoch 91/100\n",
            "8000/8000 [==============================] - 1s 106us/step - loss: 0.3999 - accuracy: 0.8356\n",
            "Epoch 92/100\n",
            "8000/8000 [==============================] - 1s 106us/step - loss: 0.3994 - accuracy: 0.8351\n",
            "Epoch 93/100\n",
            "8000/8000 [==============================] - 1s 106us/step - loss: 0.3996 - accuracy: 0.8351\n",
            "Epoch 94/100\n",
            "8000/8000 [==============================] - 1s 107us/step - loss: 0.4000 - accuracy: 0.8374\n",
            "Epoch 95/100\n",
            "8000/8000 [==============================] - 1s 106us/step - loss: 0.3993 - accuracy: 0.8354\n",
            "Epoch 96/100\n",
            "8000/8000 [==============================] - 1s 107us/step - loss: 0.4000 - accuracy: 0.8367\n",
            "Epoch 97/100\n",
            "8000/8000 [==============================] - 1s 109us/step - loss: 0.3993 - accuracy: 0.8351\n",
            "Epoch 98/100\n",
            "8000/8000 [==============================] - 1s 107us/step - loss: 0.3998 - accuracy: 0.8375\n",
            "Epoch 99/100\n",
            "8000/8000 [==============================] - 1s 107us/step - loss: 0.3998 - accuracy: 0.8365\n",
            "Epoch 100/100\n",
            "8000/8000 [==============================] - 1s 110us/step - loss: 0.3994 - accuracy: 0.8366\n"
          ],
          "name": "stdout"
        },
        {
          "output_type": "execute_result",
          "data": {
            "text/plain": [
              "<keras.callbacks.callbacks.History at 0x7fb2d366e128>"
            ]
          },
          "metadata": {
            "tags": []
          },
          "execution_count": 73
        }
      ]
    },
    {
      "cell_type": "code",
      "metadata": {
        "id": "l-9swQTXZQKq",
        "colab_type": "code",
        "colab": {
          "base_uri": "https://localhost:8080/",
          "height": 34
        },
        "outputId": "0af29687-7a60-43c3-a62a-6e39b7e0eed1"
      },
      "source": [
        "# Part 3 - Making predictions and evaluating the model\n",
        "\n",
        "# Predicting the Test set results\n",
        "y_pred = classifier.predict(X_test)\n",
        "y_pred = (y_pred > 0.5)\n",
        "\n",
        "# Predicting a single new observation\n",
        "\"\"\"Predict if the customer with the following informations will leave the bank:\n",
        "Geography: France\n",
        "Credit Score: 600\n",
        "Gender: Male\n",
        "Age: 40\n",
        "Tenure: 3\n",
        "Balance: 60000\n",
        "Number of Products: 2\n",
        "Has Credit Card: Yes\n",
        "Is Active Member: Yes\n",
        "Estimated Salary: 50000\"\"\"\n",
        "new_prediction = classifier.predict(sc.transform(np.array([[0.0, 0, 600, 1, 40, 3, 60000, 2, 1, 1, 50000]])))\n",
        "new_prediction = (new_prediction > 0.5)\n",
        "print(new_prediction)"
      ],
      "execution_count": 75,
      "outputs": [
        {
          "output_type": "stream",
          "text": [
            "[[False]]\n"
          ],
          "name": "stdout"
        }
      ]
    },
    {
      "cell_type": "code",
      "metadata": {
        "id": "4LFTCqxxZg5s",
        "colab_type": "code",
        "colab": {
          "base_uri": "https://localhost:8080/",
          "height": 51
        },
        "outputId": "fe3df9d6-6dcb-4d5c-a67e-af001a6133d8"
      },
      "source": [
        "# Printing the Confusion Matrix\n",
        "from sklearn.metrics import confusion_matrix\n",
        "cm = confusion_matrix(y_test, y_pred)\n",
        "print(cm)"
      ],
      "execution_count": 77,
      "outputs": [
        {
          "output_type": "stream",
          "text": [
            "[[1538   57]\n",
            " [ 262  143]]\n"
          ],
          "name": "stdout"
        }
      ]
    }
  ]
}